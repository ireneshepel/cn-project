{
 "cells": [
  {
   "cell_type": "code",
   "execution_count": 12,
   "metadata": {},
   "outputs": [],
   "source": [
    "#!/usr/bin/python\n",
    "\n",
    "import urllib.request, urllib.parse, sys, os, platform, json\n",
    "\n",
    "def main(video_url):\n",
    "    try:\n",
    "        url = urllib.request.urlopen('https://www.youtube.com/get_video_info?video_id=' + video_url[video_url.find('=') +1 :])\n",
    "        url_data = url.read()\n",
    "    except:\n",
    "        print('Cannot read URL DATA!')\n",
    "        return\n",
    "    try:\n",
    "        url_info = urllib.parse.parse_qs(url_data.decode('utf-8'))\n",
    "        player_response = json.loads(url_info['player_response'][0])\n",
    "        video_title = player_response['videoDetails']['title']\n",
    "    except:\n",
    "        reason = url_info['reason'][0]\n",
    "        print('Cannot parse URL! Reason:' + reason)\n",
    "        return\n",
    "    for symbol in ['\\\\','/',':','*','?','\"','<','>','|']:\n",
    "           video_title = video_title.replace(symbol,' ')  \n",
    "    file_name = video_title + '.mp4'\n",
    "    item_url = player_response['streamingData']['formats'][0]['url']\n",
    "    \n",
    "    url = urllib.request.urlopen(item_url)\n",
    "    length = int(url.headers['Content-Length'])\n",
    "    buffer = url.read(1024)\n",
    "    done = 0\n",
    "    percent1 = 0\n",
    "    video_file = open(os.path.expanduser('~') + '/Desktop/' + file_name,'wb+')\n",
    "    while buffer:\n",
    "        done += 1024\n",
    "        percent = done * 100 // length\n",
    "        if int(percent1) != int(percent) :\n",
    "            print('\\r' + str(percent) + '%') \n",
    "            percent1 = percent\n",
    "        video_file.write(buffer)\n",
    "        buffer = url.read(1024)\n",
    "    video_file.close()\n",
    "    print('Download complited!')\n"
   ]
  },
  {
   "cell_type": "code",
   "execution_count": 19,
   "metadata": {},
   "outputs": [
    {
     "name": "stdout",
     "output_type": "stream",
     "text": [
      "\n"
     ]
    }
   ],
   "source": [
    "address= input()"
   ]
  },
  {
   "cell_type": "code",
   "execution_count": 20,
   "metadata": {
    "scrolled": true
   },
   "outputs": [
    {
     "name": "stdout",
     "output_type": "stream",
     "text": [
      "Cannot parse URL! Reason:Invalid parameters.\n"
     ]
    }
   ],
   "source": [
    "main(address)"
   ]
  },
  {
   "cell_type": "code",
   "execution_count": null,
   "metadata": {},
   "outputs": [],
   "source": []
  }
 ],
 "metadata": {
  "kernelspec": {
   "display_name": "Python 3",
   "language": "python",
   "name": "python3"
  },
  "language_info": {
   "codemirror_mode": {
    "name": "ipython",
    "version": 3
   },
   "file_extension": ".py",
   "mimetype": "text/x-python",
   "name": "python",
   "nbconvert_exporter": "python",
   "pygments_lexer": "ipython3",
   "version": "3.7.4"
  }
 },
 "nbformat": 4,
 "nbformat_minor": 2
}
